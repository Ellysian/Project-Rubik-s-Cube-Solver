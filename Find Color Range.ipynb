{
 "cells": [
  {
   "cell_type": "code",
   "execution_count": 1,
   "metadata": {},
   "outputs": [
    {
     "name": "stdout",
     "output_type": "stream",
     "text": [
      "(20.3832311383631, 122.57771260997067, 163.42775259930684, 0.0)\n"
     ]
    }
   ],
   "source": [
    "import cv2\n",
    "\n",
    "# Load the image\n",
    "img = cv2.imread(\"IMG_4745.jpg\")\n",
    "\n",
    "# Convert the image to the HSV color space\n",
    "hsv = cv2.cvtColor(img, cv2.COLOR_BGR2HSV)\n",
    "\n",
    "# Define the lower and upper bounds of the color range\n",
    "# These values are just examples and may need to be adjusted\n",
    "color_lower = (20, 100, 100)\n",
    "color_upper = (30, 255, 255)\n",
    "\n",
    "# Filter the image to only the colors within the range\n",
    "mask = cv2.inRange(hsv, color_lower, color_upper)\n",
    "\n",
    "# Find the mean color of the filtered image\n",
    "mean_color = cv2.mean(hsv, mask=mask)\n",
    "\n",
    "# Print the mean color\n",
    "print(mean_color)\n",
    "\n",
    "# Experiment with different values for the lower and upper bounds\n",
    "# until you find the range that works best for your cube"
   ]
  },
  {
   "cell_type": "code",
   "execution_count": 8,
   "metadata": {},
   "outputs": [
    {
     "data": {
      "text/plain": [
       "-1"
      ]
     },
     "execution_count": 8,
     "metadata": {},
     "output_type": "execute_result"
    }
   ],
   "source": [
    "import cv2\n",
    "import numpy as np\n",
    "\n",
    "# Load the image of the cube\n",
    "img = cv2.imread(\"red_face.jpg\")\n",
    "\n",
    "# Define the lower and upper bounds of the color range\n",
    "color_lower = (50, 50, 50)\n",
    "color_upper = (70, 255, 255)\n",
    "\n",
    "# Create an image that shows the range of colors from the lower value to the upper value\n",
    "color_palette = np.zeros((2000, 3024, 3), dtype=np.uint8)\n",
    "for i in range(0, 3024):\n",
    "    color_palette[:, i] = (i*(color_upper[0]-color_lower[0])/3024+color_lower[0],\n",
    "                         i*(color_upper[1]-color_lower[1])/3024+color_lower[1],\n",
    "                         i*(color_upper[2]-color_lower[2])/3024+color_lower[2])\n",
    "\n",
    "# Concatenate the image of the cube and the color palette\n",
    "result = np.concatenate((img, color_palette), axis=0)\n",
    "\n",
    "# Show the result\n",
    "cv2.imshow(\"Cube and Color Palette\", result)\n",
    "cv2.waitKey(0)\n",
    "cv2.destroyAllWindows()\n",
    "cv2.waitKey(33)"
   ]
  },
  {
   "cell_type": "code",
   "execution_count": 10,
   "metadata": {},
   "outputs": [
    {
     "name": "stdout",
     "output_type": "stream",
     "text": [
      "HSV values of the pixel at (1500, 2100): [ 72 195 162]\n"
     ]
    }
   ],
   "source": [
    "#Get the HSV value of pixel\n",
    "import cv2\n",
    "\n",
    "# Load the image\n",
    "img = cv2.imread(\"IMG_4689.jpg\")\n",
    "\n",
    "# Convert the image to the HSV color space\n",
    "hsv_image = cv2.cvtColor(img, cv2.COLOR_BGR2HSV)\n",
    "\n",
    "# Get the x and y coordinates of the pixel\n",
    "x, y = 1500, 2100\n",
    "\n",
    "# Get the HSV values of the pixel\n",
    "hsv_values = hsv_image[y, x]\n",
    "\n",
    "# Print the HSV values\n",
    "print(\"HSV values of the pixel at ({}, {}): {}\".format(x, y, hsv_values))"
   ]
  }
 ],
 "metadata": {
  "kernelspec": {
   "display_name": "Python 3.9.10 ('.venv': venv)",
   "language": "python",
   "name": "python3"
  },
  "language_info": {
   "codemirror_mode": {
    "name": "ipython",
    "version": 3
   },
   "file_extension": ".py",
   "mimetype": "text/x-python",
   "name": "python",
   "nbconvert_exporter": "python",
   "pygments_lexer": "ipython3",
   "version": "3.9.10"
  },
  "orig_nbformat": 4,
  "vscode": {
   "interpreter": {
    "hash": "d9e7c43f1121caa8c06fc3d2e10432983ebd0b9bd6e086ad28efd341ff361506"
   }
  }
 },
 "nbformat": 4,
 "nbformat_minor": 2
}
