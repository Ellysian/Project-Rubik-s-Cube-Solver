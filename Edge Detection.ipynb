{
 "cells": [
  {
   "cell_type": "code",
   "execution_count": 156,
   "metadata": {},
   "outputs": [],
   "source": [
    "import cv2\n",
    "import numpy as np\n",
    "\n",
    "#img = cv2.imread(\"IMG_4507.jpg\", cv2.IMREAD_GRAYSCALE)\n",
    "#img = cv2.imread(\"IMG_4515.png\", cv2.IMREAD_GRAYSCALE)\n",
    "img = cv2.imread(\"IMG_4745.jpg\")\n",
    "gray = cv2.cvtColor(img, cv2.COLOR_BGR2GRAY)\n",
    "#template = cv2.imread(\"IMG_4536.jpg\", cv2.IMREAD_GRAYSCALE)\n",
    "#img = cv2.imread(\"OYFN2.png\", cv2.IMREAD_GRAYSCALE)\n",
    "img_blur = cv2.GaussianBlur(gray, (3,3), 0)\n",
    "#cap = cv2.VideoCapture(0)\n",
    "#cap.release()\n",
    "\n"
   ]
  },
  {
   "cell_type": "code",
   "execution_count": 95,
   "metadata": {},
   "outputs": [
    {
     "data": {
      "text/plain": [
       "-1"
      ]
     },
     "execution_count": 95,
     "metadata": {},
     "output_type": "execute_result"
    }
   ],
   "source": [
    "# Using Canny only\n",
    "low_threshold = 20\n",
    "high_threshold = 60\n",
    "\n",
    "edges = cv2.Canny(img_blur, low_threshold, high_threshold)\n",
    "\n",
    "cv2.imshow(\"Edges\", edges)\n",
    "cv2.waitKey(0)\n",
    "cv2.destroyAllWindows()\n",
    "cv2.waitKey(33)"
   ]
  },
  {
   "cell_type": "code",
   "execution_count": 9,
   "metadata": {},
   "outputs": [],
   "source": [
    "# Using Hough Lines\n",
    "edges = cv2.Canny(img, 50, 120)\n",
    "\n",
    "lines = cv2.HoughLines(edges, 1, np.pi/180, 100)\n",
    "\n",
    "for line in lines:\n",
    "    rho, theta = line[0]\n",
    "    a = np.cos(theta)\n",
    "    b = np.sin(theta)\n",
    "    x0 = a*rho\n",
    "    y0 = b*rho\n",
    "    x1 = int(x0 + 1000*(-b))\n",
    "    y1 = int(y0 + 1000*(a))\n",
    "    x2 = int(x0 - 1000*(-b))\n",
    "    y2 = int(y0 - 1000*(a))\n",
    "    cv2.line(img, (x1,y1), (x2,y2), (0,0,255), 2)\n",
    "\n"
   ]
  },
  {
   "cell_type": "code",
   "execution_count": 158,
   "metadata": {},
   "outputs": [
    {
     "name": "stdout",
     "output_type": "stream",
     "text": [
      "9\n"
     ]
    },
    {
     "data": {
      "text/plain": [
       "-1"
      ]
     },
     "execution_count": 158,
     "metadata": {},
     "output_type": "execute_result"
    }
   ],
   "source": [
    "# Contours using Binary Thresholding\n",
    "ret, binary = cv2.threshold(img_blur, 116, 255, cv2.THRESH_BINARY)\n",
    "\n",
    "kernel = np.ones((3,3), np.uint8)\n",
    "dilated = cv2.dilate(binary, kernel, iterations=2)\n",
    "\n",
    "contours, hierarchy = cv2.findContours(image=binary, mode=cv2.RETR_TREE, method=cv2.CHAIN_APPROX_NONE)\n",
    "\n",
    "(contours, hierarchy) = cv2.findContours(dilated.copy(), \n",
    "                                         cv2.RETR_TREE,\n",
    "                                         cv2.CHAIN_APPROX_SIMPLE)\n",
    "                                      \n",
    "\n",
    "squares = img.copy()\n",
    "counter = 0\n",
    "for cnt in contours:\n",
    "    # Approximate the contour with a polygon\n",
    "    epsilon = 0.02*cv2.arcLength(cnt, True)\n",
    "    approx = cv2.approxPolyDP(cnt, epsilon, True)\n",
    "    # check if the approximated contour has 4 sides\n",
    "    area = cv2.contourArea(cnt)\n",
    "    if len(approx) == 4 and area > 300:\n",
    "        # Draw the contour on the original image\n",
    "        cv2.drawContours(squares, [approx], -1, (0, 0, 255), 25)\n",
    "        counter = counter + 1\n",
    "        \n",
    "print (counter)\n",
    "# draw contours on the original image\n",
    "image_copy = img.copy()\n",
    "cv2.drawContours(image=image_copy, contours=contours, contourIdx=-1, color=(255, 0, 0), thickness=25, lineType=cv2.LINE_AA)\n",
    "\n",
    "#cv2.imshow(\"contours\", image_copy)\n",
    "cv2.imshow(\"squares\", squares)\n",
    "cv2.waitKey(0)\n",
    "cv2.destroyAllWindows()\n",
    "cv2.waitKey(33)"
   ]
  },
  {
   "cell_type": "code",
   "execution_count": null,
   "metadata": {},
   "outputs": [],
   "source": [
    "# Matching Template\n",
    "result = cv2.matchTemplate(img, template, cv2.TM_CCOEFF_NORMED)\n",
    "\n",
    "min_val, max_val, min_loc, max_loc = cv2.minMaxLoc(result)\n",
    "\n",
    "w, h = template.shape[::-1]\n",
    "print (h, w)\n",
    "cv2.rectangle(img, max_loc, (max_loc[0] + w, max_loc[1] + h), (0,0,255), 2)\n",
    "\n",
    "# Does not work though\n"
   ]
  },
  {
   "cell_type": "code",
   "execution_count": 76,
   "metadata": {},
   "outputs": [
    {
     "data": {
      "text/plain": [
       "-1"
      ]
     },
     "execution_count": 76,
     "metadata": {},
     "output_type": "execute_result"
    }
   ],
   "source": [
    "#cv2.imshow(\"Original\", img)\n",
    "cv2.imshow(\"Edges\", img_blur)\n",
    "cv2.waitKey(0)\n",
    "cv2.destroyAllWindows()\n",
    "cv2.waitKey(33)"
   ]
  }
 ],
 "metadata": {
  "kernelspec": {
   "display_name": "Python 3.9.10 ('.venv': venv)",
   "language": "python",
   "name": "python3"
  },
  "language_info": {
   "codemirror_mode": {
    "name": "ipython",
    "version": 3
   },
   "file_extension": ".py",
   "mimetype": "text/x-python",
   "name": "python",
   "nbconvert_exporter": "python",
   "pygments_lexer": "ipython3",
   "version": "3.9.10"
  },
  "orig_nbformat": 4,
  "vscode": {
   "interpreter": {
    "hash": "d9e7c43f1121caa8c06fc3d2e10432983ebd0b9bd6e086ad28efd341ff361506"
   }
  }
 },
 "nbformat": 4,
 "nbformat_minor": 2
}
