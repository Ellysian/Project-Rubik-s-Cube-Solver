{
 "cells": [
  {
   "cell_type": "code",
   "execution_count": 1,
   "metadata": {},
   "outputs": [],
   "source": [
    "import cv2\n",
    "import numpy as np\n",
    "\n",
    "img = cv2.imread(\"IMG_4507.jpg\", cv2.IMREAD_GRAYSCALE)\n",
    "img = cv2.imread(\"IMG_4515.png\", cv2.IMREAD_GRAYSCALE)\n",
    "img = cv2.imread(\"IMG_4689.jpg\", cv2.IMREAD_GRAYSCALE)\n",
    "template = cv2.imread(\"IMG_4536.jpg\", cv2.IMREAD_GRAYSCALE)\n",
    "#img = cv2.imread(\"OYFN2.png\", cv2.IMREAD_GRAYSCALE)\n",
    "img = cv2.GaussianBlur(img, (3,3), 0)\n",
    "#cap = cv2.VideoCapture(0)\n",
    "#cap.release()\n",
    "\n"
   ]
  },
  {
   "cell_type": "code",
   "execution_count": 15,
   "metadata": {},
   "outputs": [],
   "source": [
    "# Using Canny only\n",
    "low_threshold = 50\n",
    "high_threshold = 120\n",
    "\n",
    "edges = cv2.Canny(img, low_threshold, high_threshold)"
   ]
  },
  {
   "cell_type": "code",
   "execution_count": 17,
   "metadata": {},
   "outputs": [],
   "source": [
    "# Using Hough Lines\n",
    "edges = cv2.Canny(img, 50, 120)\n",
    "\n",
    "lines = cv2.HoughLines(edges, 1, np.pi/180, 100)\n",
    "\n",
    "for line in lines:\n",
    "    rho, theta = line[0]\n",
    "    a = np.cos(theta)\n",
    "    b = np.sin(theta)\n",
    "    x0 = a*rho\n",
    "    y0 = b*rho\n",
    "    x1 = int(x0 + 1000*(-b))\n",
    "    y1 = int(y0 + 1000*(a))\n",
    "    x2 = int(x0 - 1000*(-b))\n",
    "    y2 = int(y0 - 1000*(a))\n",
    "    cv2.line(img, (x1,y1), (x2,y2), (0,0,255), 2)\n",
    "\n"
   ]
  },
  {
   "cell_type": "code",
   "execution_count": 32,
   "metadata": {},
   "outputs": [
    {
     "data": {
      "text/plain": [
       "array([[ 80,  80,  79, ...,  48,  45,  44],\n",
       "       [ 78,  78,  77, ...,  48,  46,  45],\n",
       "       [ 74,  75,  75, ...,  47,  47,  46],\n",
       "       ...,\n",
       "       [ 65,  62,  59, ..., 118,   0,   0],\n",
       "       [ 62,  59,  55, ...,   0,   0,   0],\n",
       "       [ 60,  57,  53, ...,   0,   0,   0]], dtype=uint8)"
      ]
     },
     "execution_count": 32,
     "metadata": {},
     "output_type": "execute_result"
    }
   ],
   "source": [
    "# Contours using Binary Thresholding\n",
    "ret, thresh = cv2.threshold(img, 230, 255, cv2.THRESH_BINARY)\n",
    "\n",
    "contours, hierarchy = cv2.findContours(image=thresh, mode=cv2.RETR_TREE, method=cv2.CHAIN_APPROX_NONE)\n",
    "                                      \n",
    "# draw contours on the original image\n",
    "image_copy = img.copy()\n",
    "cv2.drawContours(image=image_copy, contours=contours, contourIdx=-1, color=(0, 255, 0), thickness=2, lineType=cv2.LINE_AA)\n",
    "  "
   ]
  },
  {
   "cell_type": "code",
   "execution_count": null,
   "metadata": {},
   "outputs": [],
   "source": [
    "# Matching Template\n",
    "result = cv2.matchTemplate(img, template, cv2.TM_CCOEFF_NORMED)\n",
    "\n",
    "min_val, max_val, min_loc, max_loc = cv2.minMaxLoc(result)\n",
    "\n",
    "w, h = template.shape[::-1]\n",
    "print (h, w)\n",
    "cv2.rectangle(img, max_loc, (max_loc[0] + w, max_loc[1] + h), (0,0,255), 2)\n",
    "\n",
    "# Does not work though\n"
   ]
  },
  {
   "cell_type": "code",
   "execution_count": 33,
   "metadata": {},
   "outputs": [
    {
     "data": {
      "text/plain": [
       "-1"
      ]
     },
     "execution_count": 33,
     "metadata": {},
     "output_type": "execute_result"
    },
    {
     "ename": "",
     "evalue": "",
     "output_type": "error",
     "traceback": [
      "\u001b[1;31mПри выполнении кода в текущей ячейке или предыдущей ячейке ядро аварийно завершило работу. Проверьте код в ячейках, чтобы определить возможную причину сбоя. Щелкните <a href=\"https://aka.ms/vscodeJupyterKernelCrash\">здесь</a> для получения дополнительных сведений. Подробнее см. в <a href='command:jupyter.viewOutput'>журнале Jupyter</a>."
     ]
    }
   ],
   "source": [
    "#cv2.imshow(\"Original\", img)\n",
    "cv2.imshow(\"Edges\", image_copy)\n",
    "cv2.waitKey(0)\n",
    "cv2.destroyAllWindows()\n",
    "cv2.waitKey(33)"
   ]
  }
 ],
 "metadata": {
  "kernelspec": {
   "display_name": "Python 3.9.10 ('.venv': venv)",
   "language": "python",
   "name": "python3"
  },
  "language_info": {
   "codemirror_mode": {
    "name": "ipython",
    "version": 3
   },
   "file_extension": ".py",
   "mimetype": "text/x-python",
   "name": "python",
   "nbconvert_exporter": "python",
   "pygments_lexer": "ipython3",
   "version": "3.9.10"
  },
  "orig_nbformat": 4,
  "vscode": {
   "interpreter": {
    "hash": "d9e7c43f1121caa8c06fc3d2e10432983ebd0b9bd6e086ad28efd341ff361506"
   }
  }
 },
 "nbformat": 4,
 "nbformat_minor": 2
}
