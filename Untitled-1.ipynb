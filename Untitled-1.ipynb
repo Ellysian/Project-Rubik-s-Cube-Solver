{
 "cells": [
  {
   "cell_type": "code",
   "execution_count": 179,
   "metadata": {},
   "outputs": [],
   "source": [
    "import cv2\n",
    "import numpy as np\n",
    "\n",
    "im = cv2.imread(\"IMG_4507.jpg\")\n",
    "im = cv2.imread(\"OYFN2.png\")\n",
    "#im = cv2.imread(\"IMG_4515.png\")\n",
    "gray = cv2.cvtColor(im,cv2.COLOR_BGR2GRAY)\n",
    "gray = np.float32(gray)\n",
    "#cap = cv2.VideoCapture(0)\n",
    "#cap.release()\n",
    "\n"
   ]
  },
  {
   "cell_type": "code",
   "execution_count": 180,
   "metadata": {},
   "outputs": [],
   "source": [
    "im = cv2.imread(\"OYFN2.png\")\n",
    "dst = cv2.cornerHarris(gray,3,3,0.05,0.04)\n",
    "#im[dst>0.01*dst.max()]=[0,0,255]\n",
    "ret, im = cv2.threshold(dst, 100000, 255,  cv2.THRESH_BINARY)\n",
    "#im = cv2.goodFeaturesToTrack(im, 4, 0.01, 10, None, 1)"
   ]
  },
  {
   "cell_type": "code",
   "execution_count": 181,
   "metadata": {},
   "outputs": [
    {
     "data": {
      "text/plain": [
       "-1"
      ]
     },
     "execution_count": 181,
     "metadata": {},
     "output_type": "execute_result"
    }
   ],
   "source": [
    "cv2.imshow(\"Show\", im)\n",
    "cv2.waitKey(0)\n",
    "cv2.destroyWindow(\"Show\")\n",
    "cv2.waitKey(33)"
   ]
  }
 ],
 "metadata": {
  "kernelspec": {
   "display_name": "Python 3.9.10 ('.venv': venv)",
   "language": "python",
   "name": "python3"
  },
  "language_info": {
   "codemirror_mode": {
    "name": "ipython",
    "version": 3
   },
   "file_extension": ".py",
   "mimetype": "text/x-python",
   "name": "python",
   "nbconvert_exporter": "python",
   "pygments_lexer": "ipython3",
   "version": "3.9.10"
  },
  "orig_nbformat": 4,
  "vscode": {
   "interpreter": {
    "hash": "d9e7c43f1121caa8c06fc3d2e10432983ebd0b9bd6e086ad28efd341ff361506"
   }
  }
 },
 "nbformat": 4,
 "nbformat_minor": 2
}
