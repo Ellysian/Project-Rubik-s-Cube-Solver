{
 "cells": [
  {
   "cell_type": "code",
   "execution_count": 10,
   "metadata": {},
   "outputs": [
    {
     "data": {
      "text/plain": [
       "-1"
      ]
     },
     "execution_count": 10,
     "metadata": {},
     "output_type": "execute_result"
    }
   ],
   "source": [
    "import cv2\n",
    "\n",
    "# Load the image\n",
    "img = cv2.imread(\"IMG_4507.jpg\")\n",
    "\n",
    "# Convert the image to HSV\n",
    "hsv = cv2.cvtColor(img, cv2.COLOR_BGR2HSV)\n",
    "\n",
    "# Define the range of color you want to detect\n",
    "color_lower = (20, 100, 100)\n",
    "color_upper = (40, 255, 255)\n",
    "\n",
    "# Create a binary mask where the color is within the range\n",
    "mask = cv2.inRange(hsv, color_lower, color_upper)\n",
    "\n",
    "# Perform morphological operations and draw squares onto the mask\n",
    "kernel = cv2.getStructuringElement(cv2.MORPH_RECT, (3, 3))\n",
    "mask = cv2.morphologyEx(mask, cv2.MORPH_CLOSE, kernel)\n",
    "\n",
    "# Find contours on the mask\n",
    "contours, _ = cv2.findContours(mask, cv2.RETR_EXTERNAL, cv2.CHAIN_APPROX_SIMPLE)\n",
    "\n",
    "for cnt in contours:\n",
    "    # Approximate the contour with a polygon\n",
    "    epsilon = 0.02*cv2.arcLength(cnt, True)\n",
    "    approx = cv2.approxPolyDP(cnt, epsilon, True)\n",
    "    area = cv2.contourArea(cnt)\n",
    "    rect = cv2.minAreaRect(approx)\n",
    "    angle = rect[-1]\n",
    "    # check if the approximated contour has 4 sides\n",
    "    if len(approx) == 4 and area > 300 and (abs(angle) < 10 or abs(angle) > 80):\n",
    "        # Draw the contour on the original image\n",
    "        cv2.drawContours(img, [approx], -1, (0, 0, 255), 2)\n",
    "\n",
    "for cnt in contours:\n",
    "    if len(cnt) >= 5:\n",
    "        ellipse = cv2.fitEllipse(cnt)\n",
    "        if ellipse[1][0]>0 and ellipse[1][1]>0:\n",
    "            # Draw the ellipse on the original image\n",
    "            cv2.ellipse(img, ellipse, (0, 0, 255), 2)\n",
    "\n",
    "# Display the original image with the squares highlighted\n",
    "cv2.imshow(\"Squares\", img)\n",
    "cv2.waitKey(0)\n",
    "cv2.destroyAllWindows()\n",
    "cv2.waitKey(33)"
   ]
  }
 ],
 "metadata": {
  "kernelspec": {
   "display_name": "Python 3.9.10 ('.venv': venv)",
   "language": "python",
   "name": "python3"
  },
  "language_info": {
   "codemirror_mode": {
    "name": "ipython",
    "version": 3
   },
   "file_extension": ".py",
   "mimetype": "text/x-python",
   "name": "python",
   "nbconvert_exporter": "python",
   "pygments_lexer": "ipython3",
   "version": "3.9.10"
  },
  "orig_nbformat": 4,
  "vscode": {
   "interpreter": {
    "hash": "d9e7c43f1121caa8c06fc3d2e10432983ebd0b9bd6e086ad28efd341ff361506"
   }
  }
 },
 "nbformat": 4,
 "nbformat_minor": 2
}
