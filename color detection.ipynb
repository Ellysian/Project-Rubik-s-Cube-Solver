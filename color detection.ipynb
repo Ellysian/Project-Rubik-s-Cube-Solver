{
 "cells": [
  {
   "cell_type": "code",
   "execution_count": 82,
   "metadata": {},
   "outputs": [
    {
     "name": "stdout",
     "output_type": "stream",
     "text": [
      "green piece # 1 and the x coordinate is  476  and the y coordinate is  1212\n",
      "blue piece # 2 and the x coordinate is  1206  and the y coordinate is  1260\n",
      "blue piece # 3 and the x coordinate is  1921  and the y coordinate is  1259\n",
      "green piece # 4 and the x coordinate is  502  and the y coordinate is  1952\n",
      "blue piece # 5 and the x coordinate is  1237  and the y coordinate is  1957\n",
      "green piece # 6 and the x coordinate is  1915  and the y coordinate is  1964\n",
      "red piece # 7 and the x coordinate is  517  and the y coordinate is  2671\n",
      "red piece # 8 and the x coordinate is  1244  and the y coordinate is  2681\n",
      "green piece # 9 and the x coordinate is  1932  and the y coordinate is  2677\n"
     ]
    },
    {
     "data": {
      "text/plain": [
       "-1"
      ]
     },
     "execution_count": 82,
     "metadata": {},
     "output_type": "execute_result"
    }
   ],
   "source": [
    "import cv2\n",
    "import numpy as np\n",
    "\n",
    "class Contour:\n",
    "    def __init__(self, coordinates, color):\n",
    "        self.coordinates = coordinates\n",
    "        self.color = color\n",
    "\n",
    "# Define a function that returns the x, y coordinates of the contour\n",
    "def get_contour_center(contour):\n",
    "    contour_np = np.array(contour)\n",
    "    rect = cv2.minAreaRect(contour_np)\n",
    "    center = rect[0]\n",
    "    return center\n",
    "\n",
    "# Load the image\n",
    "img = cv2.imread(\"IMG_4745.jpg\")\n",
    "\n",
    "# Convert the image to HSV\n",
    "hsv = cv2.cvtColor(img, cv2.COLOR_BGR2HSV)\n",
    "\n",
    "# Define the range of color you want to detect\n",
    "\n",
    "color_lower = (20, 100, 100)\n",
    "color_upper = (40, 255, 255)\n",
    "\n",
    "colors = [('yellow', (20, 100, 100), (40, 255, 255)),\n",
    "    ('red', (0, 100, 100), (10, 255, 255)),\n",
    "    ('blue', (100, 50, 50), (120, 255, 255)),\n",
    "    ('green', (50, 50, 50), (70, 255, 255)),\n",
    "    ('orange', (5, 50, 50), (15, 255, 255)),\n",
    "    ('white', (20, 10, 130), (40, 50, 255))\n",
    "    ]\n",
    "\n",
    "color_map = {\"red\": (0, 0, 255), \"green\": (0, 255, 0), \"blue\": (255, 0, 0), \"yellow\": (0, 255, 255), \"white\": (255,255,255), \"orange\": (0, 165, 255)}\n",
    "\n",
    "contoursList = []\n",
    "\n",
    "for color, color_lower, color_upper in colors:\n",
    "    # Create a binary mask where the color is within the range\n",
    "    mask = cv2.inRange(hsv, color_lower, color_upper)\n",
    "\n",
    "    # Perform morphological operations and draw squares onto the mask\n",
    "    kernel = cv2.getStructuringElement(cv2.MORPH_RECT, (3, 3))\n",
    "    mask = cv2.morphologyEx(mask, cv2.MORPH_CLOSE, kernel)\n",
    "\n",
    "    # Find contours on the mask\n",
    "    contours, hierarchy = cv2.findContours(mask, cv2.RETR_EXTERNAL, cv2.CHAIN_APPROX_SIMPLE)\n",
    "\n",
    "    for i in range(len(contours)):\n",
    "        cnt = contours[i]\n",
    "        # Approximate the contour with a polygon\n",
    "        epsilon = 0.02*cv2.arcLength(cnt, True)\n",
    "        approx = cv2.approxPolyDP(cnt, epsilon, True)\n",
    "        \n",
    "        area = cv2.contourArea(cnt)\n",
    "        rect = cv2.minAreaRect(approx)\n",
    "        angle = rect[-1]\n",
    "        # check if the approximated contour has 4 sides\n",
    "        if len(approx) == 4 and area > 50000 and (abs(angle) < 10 or (abs(angle) > 80 and abs(angle) < 100)) and hierarchy[0][i][3] == -1 :\n",
    "            line_lengths = [cv2.norm(approx[i]-approx[(i+1)%4]) for i in range(4)]\n",
    "            if all(abs(line_lengths[i]-line_lengths[i+1]) < 50 for i in range(3)):\n",
    "                # Draw the contour on the original image\n",
    "                contoursList.append(Contour(cnt, color))\n",
    "\n",
    "# Sort the contours_list\n",
    "contoursList = sorted(contoursList, key=lambda c: (cv2.boundingRect(c.coordinates)[1], cv2.boundingRect(c.coordinates)[0]))\n",
    "if (len(contoursList) >= 9):\n",
    "    for a in range(3):\n",
    "        for i in range(3*a + 1,3*a + 3):\n",
    "            key = contoursList[i]\n",
    "\n",
    "            j = i-1\n",
    "            while j>=0 and cv2.boundingRect(key.coordinates)[0] < cv2.boundingRect(contoursList[j].coordinates)[0]:\n",
    "                contoursList[j+1] = contoursList[j]\n",
    "                j -= 1\n",
    "            contoursList[j+1] = key\n",
    "\n",
    "counter = 0\n",
    "for contour in contoursList:\n",
    "    counter += 1\n",
    "    color = color_map[contour.color]\n",
    "    # Draw the contour on the image\n",
    "    cv2.drawContours(img,[contour.coordinates], 0, (255,0,0), 10)\n",
    "    cX = contour.coordinates[0][0][0]\n",
    "    cY = contour.coordinates[0][0][1]\n",
    "    cv2.putText(img, '#' + str(counter), (cX,cY), cv2.FONT_HERSHEY_SIMPLEX, 3, (0,0,0), 8)\n",
    "    print (contour.color, \"piece #\", counter, \"and the x coordinate is \", cv2.boundingRect(contour.coordinates)[0], \" and the y coordinate is \", cv2.boundingRect(contour.coordinates)[1])\n",
    "\n",
    "#cv2.drawContours(img, [contoursList[3].coordinates], 0, (255,0,0), 10)\n",
    "\n",
    "\n",
    "# Display the original image with the squares highlighted\n",
    "cv2.imshow(\"Squares\", img)\n",
    "cv2.waitKey(0)\n",
    "cv2.destroyAllWindows()\n",
    "cv2.waitKey(33)"
   ]
  }
 ],
 "metadata": {
  "kernelspec": {
   "display_name": "Python 3.9.10 ('.venv': venv)",
   "language": "python",
   "name": "python3"
  },
  "language_info": {
   "codemirror_mode": {
    "name": "ipython",
    "version": 3
   },
   "file_extension": ".py",
   "mimetype": "text/x-python",
   "name": "python",
   "nbconvert_exporter": "python",
   "pygments_lexer": "ipython3",
   "version": "3.9.10"
  },
  "orig_nbformat": 4,
  "vscode": {
   "interpreter": {
    "hash": "d9e7c43f1121caa8c06fc3d2e10432983ebd0b9bd6e086ad28efd341ff361506"
   }
  }
 },
 "nbformat": 4,
 "nbformat_minor": 2
}
